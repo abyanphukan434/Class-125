{
 "cells": [
  {
   "cell_type": "code",
   "execution_count": null,
   "metadata": {},
   "outputs": [],
   "source": [
    "import pandas as pd\r\n",
    "import numpy as np\r\n",
    "from sklearn.datasets import fetch_openml\r\n",
    "from sklearn.model_selection import train_test_split\r\n",
    "from sklearn.linear_model import LogisticRegression\r\n",
    "from PIL import Image\r\n",
    "import PIL.ImageOps\r\n",
    "\r\n",
    "X, y = fetch_openml('mnist_784', version = 1, return_X_y = True)\r\n",
    "\r\n",
    "X_train, X_test, y_train, y_test = train_test_split(X, y, random_state = 9, test_size = 2500, train_size = 7500)\r\n",
    "\r\n",
    "X_train_scale = X_train / 255.0\r\n",
    "\r\n",
    "X_test_scale = X_test / 255.0\r\n",
    "\r\n",
    "clf = LogisticRegression(solver = 'saga', multi_class = 'multinomial').tofit(X_train_scale, y_train)\r\n",
    "\r\n",
    "def get_pred(image):\r\n",
    "      im_pil = Image.open(image)\r\n",
    "\r\n",
    "      image_bw = im_pil.convert('L')\r\n",
    "\r\n",
    "      image_bw_resized = image_bw.resize((28,28), Image.ANTIALIAS)\r\n",
    "\r\n",
    "      pixel_filter = 20\r\n",
    "\r\n",
    "      min_pixel = np.percentile(image_bw_resized, pixel_filter)\r\n",
    "\r\n",
    "      image_bw_resized_inverted_scaled = np.clip(image_bw_resized-min_pixel, 0, 255)\r\n",
    "        \r\n",
    "      max_pixel = np.max(image_bw_resized)\r\n",
    "       \r\n",
    "      image_bw_resized_inverted_scaled = np.asarray(image_bw_resized_inverted_scaled)/max_pixel\r\n",
    "      \r\n",
    "      test_sample = np.array(image_bw_resized_inverted_scaled).reshape(1, 784)\r\n",
    "\r\n",
    "      test_pred = clf.predict(test_sample)\r\n",
    "\r\n",
    "      return test_pred[0]"
   ]
  }
 ],
 "metadata": {
  "interpreter": {
   "hash": "030e69f39d65acb33ad14d6b96256331a6cc0e9adc984be61bf01f8dd130d225"
  },
  "kernelspec": {
   "display_name": "Python 3.8.6 32-bit",
   "name": "python3"
  },
  "language_info": {
   "name": "python",
   "version": ""
  },
  "orig_nbformat": 4
 },
 "nbformat": 4,
 "nbformat_minor": 2
}